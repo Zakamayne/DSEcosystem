{
 "cells": [
  {
   "cell_type": "markdown",
   "id": "4eed6b16-9b5e-4208-ba62-27ec8d797004",
   "metadata": {},
   "source": [
    "# Data Science Tools and Ecosystem\n",
    "In this notebook, Data Science Tools and Ecosystem are summarized"
   ]
  },
  {
   "attachments": {},
   "cell_type": "markdown",
   "id": "75601f5d-e4c5-4934-80e8-2fe82531a944",
   "metadata": {},
   "source": [
    "<b> Objectives:\n",
    "- Python\n",
    "- Scala\n",
    "- R\n",
    "- SQL"
   ]
  },
  {
   "cell_type": "markdown",
   "id": "01691728-2878-41b5-922b-b3a7586e7714",
   "metadata": {},
   "source": [
    "> Some of the popular languages that Data Scientists use are:\n",
    "> 1. Python\n",
    "> 2. R\n",
    "> 3. SQL\n"
   ]
  },
  {
   "cell_type": "markdown",
   "id": "c3540418-e898-41c0-9dbf-9fbd73607d08",
   "metadata": {},
   "source": [
    "> Some of the commonly used libraries used by Data Scientists include:\n",
    "> 1. Pandas\n",
    "> 2. Numpy\n",
    "> 3. PyTorch\n",
    "> 4. Sickit-Learn\n",
    "> 5. Matplotlib"
   ]
  },
  {
   "cell_type": "markdown",
   "id": "acbb1f06-1de2-483b-8ae0-25b9ff6d3d18",
   "metadata": {},
   "source": [
    "|Data Science Tools|\n",
    "|-----|\n",
    "|Jupyter Notebooks|\n",
    "|VS Code|\n",
    "|RStudio|\n",
    "\n"
   ]
  },
  {
   "cell_type": "markdown",
   "id": "5341cbf6-c108-4925-8474-c85e4421c81c",
   "metadata": {},
   "source": [
    "<h3>Below are a few examples of evaluating arithmetic expressions in Python</h3>"
   ]
  },
  {
   "cell_type": "code",
   "execution_count": 14,
   "id": "dbb8835a-1e53-42ca-bde8-20dc4b17864b",
   "metadata": {},
   "outputs": [
    {
     "data": {
      "text/plain": [
       "17"
      ]
     },
     "execution_count": 14,
     "metadata": {},
     "output_type": "execute_result"
    }
   ],
   "source": [
    "#This a simple arithmetic expression to multiply then add integers\n",
    "(3*4)+5 "
   ]
  },
  {
   "cell_type": "code",
   "execution_count": 17,
   "id": "37fbf57b-51d8-4d45-aad3-e1cc154ca706",
   "metadata": {},
   "outputs": [
    {
     "data": {
      "text/plain": [
       "3.3333333333333335"
      ]
     },
     "execution_count": 17,
     "metadata": {},
     "output_type": "execute_result"
    }
   ],
   "source": [
    "#This will convert 200 minutes to hours by diving by 60\n",
    "200/60"
   ]
  },
  {
   "cell_type": "markdown",
   "id": "7b2a84fe-3a1e-430b-838b-9dfa06c7700e",
   "metadata": {},
   "source": [
    "## Author\n",
    "Zakaria R."
   ]
  },
  {
   "cell_type": "code",
   "execution_count": null,
   "id": "0833eeb8-a57e-4ccc-a0a3-696b909418eb",
   "metadata": {},
   "outputs": [],
   "source": []
  },
  {
   "cell_type": "code",
   "execution_count": null,
   "id": "90bea730-f3d5-4116-9ef1-68eb60af1ec7",
   "metadata": {},
   "outputs": [],
   "source": []
  }
 ],
 "metadata": {
  "kernelspec": {
   "display_name": "Python 3 (ipykernel)",
   "language": "python",
   "name": "python3"
  },
  "language_info": {
   "codemirror_mode": {
    "name": "ipython",
    "version": 3
   },
   "file_extension": ".py",
   "mimetype": "text/x-python",
   "name": "python",
   "nbconvert_exporter": "python",
   "pygments_lexer": "ipython3",
   "version": "3.11.9"
  }
 },
 "nbformat": 4,
 "nbformat_minor": 5
}
